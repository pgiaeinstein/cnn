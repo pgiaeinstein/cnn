{
 "cells": [
  {
   "cell_type": "markdown",
   "metadata": {},
   "source": [
    "# Simulado Datathon\n",
    "\n",
    "### Objetivo:\n",
    "\n",
    "Você deve utilizar a base fornecida para realizar as atividades deste simulado. Estes dados tem origem dos agendamentos realizados no Hospital ABC durante todo o período de 2010.\n",
    "\n",
    "Para formar essa base, foram escolhidos 30000 agendamentos, aleatoriamente, garantindo a mesma proporção de pacientes presentes e faltantes verificada no mesmo ano de 2010.\n",
    "\n",
    "* Busque encontrar dados faltantes na base e escolha a estratégia mais adequada para contornar este problema.\n",
    "* Descreva a base buscando mostrar o relacionamento das informações presentes, você pode utilizar gráficos para facilitar o entendimento ou sumarizar a informação de forma textual.\n",
    "* Crie um modelo preditivo para os dados fornecidos, utilize a melhor métrica de avaliação levando em consideração sua análise descritiva. O objetivo deste modelo é prever um possível noshow de paciente, utilize a coluna Status para o target de seu modelo."
   ]
  },
  {
   "cell_type": "code",
   "execution_count": null,
   "metadata": {},
   "outputs": [],
   "source": [
    "!wget \"https://github.com/pgiaeinstein/cnn/raw/master/datathon_ns.csv\""
   ]
  }
 ],
 "metadata": {
  "kernelspec": {
   "display_name": "Python 3",
   "language": "python",
   "name": "python3"
  },
  "language_info": {
   "codemirror_mode": {
    "name": "ipython",
    "version": 3
   },
   "file_extension": ".py",
   "mimetype": "text/x-python",
   "name": "python",
   "nbconvert_exporter": "python",
   "pygments_lexer": "ipython3",
   "version": "3.6.7"
  }
 },
 "nbformat": 4,
 "nbformat_minor": 4
}
